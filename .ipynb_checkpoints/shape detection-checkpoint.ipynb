{
 "cells": [
  {
   "cell_type": "code",
   "execution_count": 18,
   "metadata": {},
   "outputs": [],
   "source": [
    "import os\n",
    "import cv2\n",
    "import numpy as np\n",
    "from sklearn.model_selection import train_test_split\n",
    "from keras.utils import to_categorical\n",
    "from keras.optimizers import SGD\n",
    "from keras.models import Sequential\n",
    "from keras.layers.core import Dense, Flatten, Activation, Dropout\n",
    "from keras.layers.convolutional import Conv2D, MaxPooling2D, AveragePooling2D"
   ]
  },
  {
   "cell_type": "code",
   "execution_count": 19,
   "metadata": {},
   "outputs": [
    {
     "name": "stdout",
     "output_type": "stream",
     "text": [
      "Getting data for:  circle\n",
      "Getting data for:  square\n",
      "Getting data for:  triangle\n",
      "Getting data for:  star\n",
      "\n",
      "Dataset Images size: 14970\n",
      "Image Shape: (64, 64, 3)\n",
      "Labels size: 14970\n"
     ]
    }
   ],
   "source": [
    "PATH = \"./shapes/\"\n",
    "IMG_SIZE = 64\n",
    "shapes = [\"circle\", \"square\", \"triangle\", \"star\"]\n",
    "labels = []\n",
    "dataset = []\n",
    "for shape in shapes:\n",
    "    print(\"Getting data for: \", shape)\n",
    "    for path in os.listdir(PATH + shape):\n",
    "        #add the image to the list of images\n",
    "        image = cv2.imread(PATH + shape + '/' + path)\n",
    "        image = cv2.resize(image, (IMG_SIZE, IMG_SIZE))\n",
    "        dataset.append(image)\n",
    "        #add an integer to the labels list \n",
    "        labels.append(shapes.index(shape))\n",
    "\n",
    "print(\"\\nDataset Images size:\", len(dataset))\n",
    "print(\"Image Shape:\", dataset[0].shape)\n",
    "print(\"Labels size:\", len(labels))"
   ]
  },
  {
   "cell_type": "code",
   "execution_count": 20,
   "metadata": {},
   "outputs": [],
   "source": [
    "data = np.array(dataset)\n",
    "data = data.astype(\"float32\")/255.0\n",
    "\n",
    "#one_hot_encode labels\n",
    "output = np.array(labels)\n",
    "output = to_categorical(output)"
   ]
  },
  {
   "cell_type": "code",
   "execution_count": 21,
   "metadata": {},
   "outputs": [
    {
     "data": {
      "text/plain": [
       "((11976, 64, 64, 3), (11976, 4), (2994, 64, 64, 3), (2994, 4))"
      ]
     },
     "execution_count": 21,
     "metadata": {},
     "output_type": "execute_result"
    }
   ],
   "source": [
    "x_train,x_test,y_train,y_test = train_test_split(data, output,test_size = 0.2,random_state = 0)\n",
    "x_train.shape, y_train.shape, x_test.shape, y_test.shape"
   ]
  },
  {
   "cell_type": "code",
   "execution_count": 26,
   "metadata": {},
   "outputs": [],
   "source": [
    "def nn(rows,cols,channels,activation):\n",
    "    model = Sequential()\n",
    "    shape = (rows,cols,channels)\n",
    "    model.add(Conv2D(filters = 6,kernel_size = 5,input_shape = shape))\n",
    "    model.add(Activation(activation))\n",
    "    model.add(MaxPooling2D(pool_size = (2,2),strides = (2,2)))\n",
    "    \n",
    "    model.add(Conv2D(filters = 16,kernel_size = 5))\n",
    "    model.add(Activation(activation))\n",
    "    model.add(MaxPooling2D(pool_size = (2,2),strides = (2,2)))\n",
    "    \n",
    "    model.add(Flatten())\n",
    "    model.add(Dense(120))\n",
    "    model.add(Dropout(0.5))\n",
    "    \n",
    "    model.add(Dense(4))\n",
    "    model.add(Activation(\"softmax\"))\n",
    "    \n",
    "    return model"
   ]
  },
  {
   "cell_type": "code",
   "execution_count": 23,
   "metadata": {},
   "outputs": [],
   "source": [
    "bs = 120\n",
    "rate = 0.01\n",
    "epoch = 10\n",
    "opt = SGD(lr = rate)\n"
   ]
  },
  {
   "cell_type": "code",
   "execution_count": 27,
   "metadata": {},
   "outputs": [
    {
     "name": "stdout",
     "output_type": "stream",
     "text": [
      "_________________________________________________________________\n",
      "Layer (type)                 Output Shape              Param #   \n",
      "=================================================================\n",
      "conv2d_7 (Conv2D)            (None, 60, 60, 6)         456       \n",
      "_________________________________________________________________\n",
      "activation_9 (Activation)    (None, 60, 60, 6)         0         \n",
      "_________________________________________________________________\n",
      "max_pooling2d_7 (MaxPooling2 (None, 30, 30, 6)         0         \n",
      "_________________________________________________________________\n",
      "conv2d_8 (Conv2D)            (None, 26, 26, 16)        2416      \n",
      "_________________________________________________________________\n",
      "activation_10 (Activation)   (None, 26, 26, 16)        0         \n",
      "_________________________________________________________________\n",
      "max_pooling2d_8 (MaxPooling2 (None, 13, 13, 16)        0         \n",
      "_________________________________________________________________\n",
      "flatten_4 (Flatten)          (None, 2704)              0         \n",
      "_________________________________________________________________\n",
      "dense_3 (Dense)              (None, 120)               324600    \n",
      "_________________________________________________________________\n",
      "dropout_3 (Dropout)          (None, 120)               0         \n",
      "_________________________________________________________________\n",
      "dense_4 (Dense)              (None, 4)                 484       \n",
      "_________________________________________________________________\n",
      "activation_11 (Activation)   (None, 4)                 0         \n",
      "=================================================================\n",
      "Total params: 327,956\n",
      "Trainable params: 327,956\n",
      "Non-trainable params: 0\n",
      "_________________________________________________________________\n"
     ]
    }
   ],
   "source": [
    "model = nn(64,64,3,\"relu\")\n",
    "model.compile(loss = \"categorical_crossentropy\",optimizer = opt,metrics = [\"accuracy\"])\n",
    "model.summary()"
   ]
  },
  {
   "cell_type": "code",
   "execution_count": 29,
   "metadata": {},
   "outputs": [
    {
     "name": "stdout",
     "output_type": "stream",
     "text": [
      "Train on 11976 samples, validate on 2994 samples\n",
      "Epoch 1/10\n",
      "11976/11976 [==============================] - 31s 3ms/step - loss: 0.0085 - acc: 0.9982 - val_loss: 0.0032 - val_acc: 0.9990\n",
      "Epoch 2/10\n",
      "11976/11976 [==============================] - 32s 3ms/step - loss: 0.0063 - acc: 0.9989 - val_loss: 0.0022 - val_acc: 0.9997\n",
      "Epoch 3/10\n",
      "11976/11976 [==============================] - 30s 3ms/step - loss: 0.0056 - acc: 0.9990 - val_loss: 0.0018 - val_acc: 0.9997\n",
      "Epoch 4/10\n",
      "11976/11976 [==============================] - 30s 3ms/step - loss: 0.0052 - acc: 0.9989 - val_loss: 0.0016 - val_acc: 0.9997\n",
      "Epoch 5/10\n",
      "11976/11976 [==============================] - 30s 3ms/step - loss: 0.0047 - acc: 0.9992 - val_loss: 0.0016 - val_acc: 0.9997\n",
      "Epoch 6/10\n",
      "11976/11976 [==============================] - 30s 3ms/step - loss: 0.0044 - acc: 0.9992 - val_loss: 0.0014 - val_acc: 0.9997\n",
      "Epoch 7/10\n",
      "11976/11976 [==============================] - 30s 3ms/step - loss: 0.0041 - acc: 0.9992 - val_loss: 0.0011 - val_acc: 1.0000\n",
      "Epoch 8/10\n",
      "11976/11976 [==============================] - 30s 3ms/step - loss: 0.0033 - acc: 0.9996 - val_loss: 0.0011 - val_acc: 1.0000\n",
      "Epoch 9/10\n",
      "11976/11976 [==============================] - 30s 3ms/step - loss: 0.0036 - acc: 0.9992 - val_loss: 9.1113e-04 - val_acc: 1.0000\n",
      "Epoch 10/10\n",
      "11976/11976 [==============================] - 30s 3ms/step - loss: 0.0036 - acc: 0.9993 - val_loss: 8.5124e-04 - val_acc: 1.0000\n",
      "11976/11976 [==============================] - 18s 2ms/step\n",
      "2994/2994 [==============================] - 5s 2ms/step\n"
     ]
    },
    {
     "data": {
      "text/plain": [
       "(1.0, 1.0)"
      ]
     },
     "execution_count": 29,
     "metadata": {},
     "output_type": "execute_result"
    }
   ],
   "source": [
    "try1 = model.fit(x_train,y_train,validation_data = (x_test,y_test), batch_size = bs,epochs = epoch,verbose=1)\n",
    "scores_train = model.evaluate(x_train,y_train,verbose = 1)\n",
    "scores_test = model.evaluate(x_test,y_test,verbose = 1)\n",
    "scores_train[1], scores_test[1]"
   ]
  }
 ],
 "metadata": {
  "kernelspec": {
   "display_name": "Python 3",
   "language": "python",
   "name": "python3"
  },
  "language_info": {
   "codemirror_mode": {
    "name": "ipython",
    "version": 3
   },
   "file_extension": ".py",
   "mimetype": "text/x-python",
   "name": "python",
   "nbconvert_exporter": "python",
   "pygments_lexer": "ipython3",
   "version": "3.7.3"
  }
 },
 "nbformat": 4,
 "nbformat_minor": 2
}
