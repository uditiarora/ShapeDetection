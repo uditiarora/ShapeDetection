{
 "cells": [
  {
   "cell_type": "code",
   "execution_count": 11,
   "metadata": {},
   "outputs": [
    {
     "name": "stderr",
     "output_type": "stream",
     "text": [
      "Using TensorFlow backend.\n"
     ]
    }
   ],
   "source": [
    "import os\n",
    "import cv2\n",
    "import numpy as np\n",
    "from sklearn.model_selection import train_test_split\n",
    "from keras.utils import to_categorical"
   ]
  },
  {
   "cell_type": "code",
   "execution_count": 9,
   "metadata": {},
   "outputs": [
    {
     "name": "stdout",
     "output_type": "stream",
     "text": [
      "Getting data for:  circle\n",
      "Getting data for:  square\n",
      "Getting data for:  triangle\n",
      "Getting data for:  star\n",
      "\n",
      "Dataset Images size: 14970\n",
      "Image Shape: (64, 64, 3)\n",
      "Labels size: 14970\n"
     ]
    }
   ],
   "source": [
    "PATH = \"./shapes/\"\n",
    "IMG_SIZE = 64\n",
    "shapes = [\"circle\", \"square\", \"triangle\", \"star\"]\n",
    "labels = []\n",
    "dataset = []\n",
    "for shape in Shapes:\n",
    "    print(\"Getting data for: \", shape)\n",
    "    for path in os.listdir(PATH + shape):\n",
    "        #add the image to the list of images\n",
    "        image = cv2.imread(PATH + shape + '/' + path)\n",
    "        image = cv2.resize(image, (IMG_SIZE, IMG_SIZE))\n",
    "        dataset.append(image)\n",
    "        #add an integer to the labels list \n",
    "        labels.append(shapes.index(shape))\n",
    "\n",
    "print(\"\\nDataset Images size:\", len(dataset))\n",
    "print(\"Image Shape:\", dataset[0].shape)\n",
    "print(\"Labels size:\", len(labels))"
   ]
  },
  {
   "cell_type": "code",
   "execution_count": 12,
   "metadata": {},
   "outputs": [],
   "source": [
    "data = np.array(dataset)\n",
    "data = data.astype(\"float32\")/255.0\n",
    "\n",
    "#one_hot_encode labels\n",
    "output = np.array(labels)\n",
    "outpur = to_categorical(output)"
   ]
  }
 ],
 "metadata": {
  "kernelspec": {
   "display_name": "Python 3",
   "language": "python",
   "name": "python3"
  },
  "language_info": {
   "codemirror_mode": {
    "name": "ipython",
    "version": 3
   },
   "file_extension": ".py",
   "mimetype": "text/x-python",
   "name": "python",
   "nbconvert_exporter": "python",
   "pygments_lexer": "ipython3",
   "version": "3.7.3"
  }
 },
 "nbformat": 4,
 "nbformat_minor": 2
}
